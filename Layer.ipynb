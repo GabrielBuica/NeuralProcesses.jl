{
 "cells": [
  {
   "cell_type": "code",
   "execution_count": 1,
   "metadata": {},
   "outputs": [
    {
     "name": "stdout",
     "output_type": "stream",
     "text": [
      "\u001b[32m\u001b[1mActivating\u001b[22m\u001b[39m environment at `~/.julia/dev/ConvCNP/Project.toml`\n"
     ]
    }
   ],
   "source": [
    "using Pkg\n",
    "\n",
    "# Load package environment.\n",
    "Pkg.activate(\".\")\n",
    "Pkg.instantiate()"
   ]
  },
  {
   "cell_type": "code",
   "execution_count": 2,
   "metadata": {},
   "outputs": [],
   "source": [
    "using Flux\n",
    "using Flux.Tracker\n",
    "using Statistics\n",
    "using Printf"
   ]
  },
  {
   "cell_type": "code",
   "execution_count": 3,
   "metadata": {},
   "outputs": [],
   "source": [
    "struct ConvDeepSet{T}\n",
    "    log_scales::T\n",
    "end "
   ]
  },
  {
   "cell_type": "code",
   "execution_count": 55,
   "metadata": {},
   "outputs": [
    {
     "data": {
      "text/plain": [
       "conv_deep_set (generic function with 2 methods)"
      ]
     },
     "execution_count": 55,
     "metadata": {},
     "output_type": "execute_result"
    }
   ],
   "source": [
    "function conv_deep_set(in::Int, scale::Float64)\n",
    "    # Add one to `in` to account for the density channel.\n",
    "    ConvDeepSet(param(log.(scale .* ones(in + 1))))\n",
    "end"
   ]
  },
  {
   "cell_type": "code",
   "execution_count": 56,
   "metadata": {},
   "outputs": [
    {
     "data": {
      "text/plain": [
       "rbf (generic function with 1 method)"
      ]
     },
     "execution_count": 56,
     "metadata": {},
     "output_type": "execute_result"
    }
   ],
   "source": [
    "compute_dists2(x, t) = (x .- permutedims(t, (2, 1, 3))).^2 \n",
    "rbf(dists2) = exp(-0.5 * dists2)"
   ]
  },
  {
   "cell_type": "code",
   "execution_count": 57,
   "metadata": {},
   "outputs": [
    {
     "data": {
      "text/plain": [
       "ConvDeepSet"
      ]
     },
     "execution_count": 57,
     "metadata": {},
     "output_type": "execute_result"
    }
   ],
   "source": [
    "\"\"\"\n",
    "    (layer::ConvDeepSet)(x::AbstractArray, y::AbstractArray, t::AbstractArray)\n",
    "\n",
    "# Arguments\n",
    "- `x::AbstractArray`: Locations of observed values of shape `(n, batch)`.\n",
    "- `y::AbstractArray`: Observed values of shape `(n, channels, batch)`.\n",
    "- `t::AbstractArray`: Discretisation locations of shape `(m)`.\n",
    "\n",
    "\"\"\"\n",
    "function (layer::ConvDeepSet)(x::AbstractArray, y::AbstractArray, t::AbstractArray)\n",
    "    # Add extra dimension to `x`.\n",
    "    # Shape: `(n, 1, batch)`.\n",
    "    x = reshape(x, size(x, 1), 1, size(x, 2))\n",
    "    \n",
    "    # Add extra dimensions to `t`.\n",
    "    # Shape: `(m, 1, batch)`.\n",
    "    t = reshape(t, size(t, 1), 1, 1)\n",
    "    \n",
    "    # Shape: `(n, m, batch)`.\n",
    "    dists2 = compute_dists2(x, t)\n",
    "    \n",
    "    # Add channel dimension.\n",
    "    # Shape: `(n, m, channels, batch)`.\n",
    "    dists2 = reshape(dists2, size(dists2)[1:2]..., 1, size(dists2)[3])\n",
    "    \n",
    "    # Apply length scales.\n",
    "    # Shape: `(n, m, channels, batch)`.\n",
    "    scales = reshape(exp.(layer.log_scales), 1, 1, length(layer.log_scales), 1)\n",
    "    dists2 = dists2 ./ scales\n",
    "    \n",
    "    # Apply RBF to compute weights.\n",
    "    weights = rbf.(dists2)\n",
    "    \n",
    "    # Add density channel to `y`.\n",
    "    # Shape: `(n, channels + 1, batch)`.\n",
    "    density = ones(size(y, 1), 1, size(y, 3))  # TODO: How to do this?\n",
    "    y = cat(density, y; dims=2)\n",
    "    \n",
    "    # Multiply with weights and sum.\n",
    "    # Shape: `(m, channels + 1, batch)`.\n",
    "    y = reshape(y, size(y, 1), 1, size(y)[2:end]...)\n",
    "    enc = dropdims(sum(y .* weights; dims=1); dims=1)\n",
    "    \n",
    "    # Divide by the density channel.\n",
    "    density = enc[:, 1:1, :]\n",
    "    others = enc[:, 2:end, :] ./ density\n",
    "    enc = cat(density, others; dims=2)\n",
    "    \n",
    "    return enc\n",
    "end"
   ]
  },
  {
   "cell_type": "code",
   "execution_count": 85,
   "metadata": {},
   "outputs": [
    {
     "data": {
      "text/plain": [
       "Tracked 12×3×2 Array{Float64,3}:\n",
       "[:, :, 1] =\n",
       " 1.2128      -0.0406356  1.06981 \n",
       " 3.43635     -0.175965   0.796478\n",
       " 0.996007     0.0716996  1.36829 \n",
       " 1.47365e-5   0.205988   1.77761 \n",
       " 1.88523     -0.396243   0.467256\n",
       " 0.00327371   0.156126   1.59973 \n",
       " 0.118334     0.0765904  1.36125 \n",
       " 0.00519613   0.149082   1.57677 \n",
       " 0.0211232    0.122962   1.4951  \n",
       " 1.63796     -0.409831   0.451599\n",
       " 3.4462      -0.1768     0.794971\n",
       " 0.0821575    0.0881809  1.39353 \n",
       "\n",
       "[:, :, 2] =\n",
       " 3.09767     -0.521656   0.297971 \n",
       " 2.53938     -0.477718   0.060935 \n",
       " 7.66396e-6   0.476543   0.238097 \n",
       " 0.0124898   -0.49498    0.418953 \n",
       " 0.36762     -0.0709685  0.0424042\n",
       " 0.332386    -0.439957   0.496159 \n",
       " 1.74514     -0.445123   0.489349 \n",
       " 0.424903    -0.436792   0.500974 \n",
       " 0.851192    -0.432112   0.508991 \n",
       " 0.294283    -0.0414143  0.0504719\n",
       " 2.53132     -0.476744   0.0600217\n",
       " 1.52223     -0.439808   0.498029 "
      ]
     },
     "execution_count": 85,
     "metadata": {},
     "output_type": "execute_result"
    }
   ],
   "source": [
    "x = randn(5, 2)\n",
    "y = randn(5, 2, 2)\n",
    "t = randn(12)\n",
    "\n",
    "layer = conv_deep_set(2, 0.1)\n",
    "\n",
    "layer(x, y, t)"
   ]
  },
  {
   "cell_type": "code",
   "execution_count": 86,
   "metadata": {},
   "outputs": [
    {
     "data": {
      "text/plain": [
       "Tracked 12×1×2 Array{Float64,3}:\n",
       "[:, :, 1] =\n",
       " 0.0                \n",
       " 0.0                \n",
       " 0.0                \n",
       " 0.5631061866418412 \n",
       " 0.9921545141867242 \n",
       " 0.7439694211686797 \n",
       " 0.22988506158596775\n",
       " 0.8737294838335093 \n",
       " 0.0                \n",
       " 0.05333134061606415\n",
       " 0.03887617319892675\n",
       " 0.2341616837918043 \n",
       "\n",
       "[:, :, 2] =\n",
       " 0.0                \n",
       " 0.5902604401254128 \n",
       " 0.6619833398864128 \n",
       " 0.28449830644621166\n",
       " 0.9720939221802982 \n",
       " 0.0                \n",
       " 0.15543431320342005\n",
       " 0.6122817874348238 \n",
       " 0.06290598215037976\n",
       " 0.0                \n",
       " 0.0                \n",
       " 0.29796178800778467"
      ]
     },
     "execution_count": 86,
     "metadata": {},
     "output_type": "execute_result"
    }
   ],
   "source": [
    "layer = conv_deep_set(2, 0.1)\n",
    "net = Chain(\n",
    "    Conv((5,), 3=>8, pad=(2,), stride=1, relu),\n",
    "    DepthwiseConv((5,), 8=>8, pad=(2,), stride=1, relu),\n",
    "    Conv((5,), 8=>1, pad=(2,), stride=1, relu),\n",
    ")\n",
    "net(layer(x, y, t))"
   ]
  },
  {
   "cell_type": "code",
   "execution_count": null,
   "metadata": {},
   "outputs": [],
   "source": []
  }
 ],
 "metadata": {
  "kernelspec": {
   "display_name": "Julia 1.3.0",
   "language": "julia",
   "name": "julia-1.3"
  },
  "language_info": {
   "file_extension": ".jl",
   "mimetype": "application/julia",
   "name": "julia",
   "version": "1.3.0"
  }
 },
 "nbformat": 4,
 "nbformat_minor": 4
}
