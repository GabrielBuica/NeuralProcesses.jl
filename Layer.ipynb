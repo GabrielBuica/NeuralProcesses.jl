{
 "cells": [
  {
   "cell_type": "code",
   "execution_count": 1,
   "metadata": {},
   "outputs": [
    {
     "name": "stdout",
     "output_type": "stream",
     "text": [
      "\u001b[32m\u001b[1mActivating\u001b[22m\u001b[39m environment at `~/.julia/dev/ConvCNP/Project.toml`\n"
     ]
    }
   ],
   "source": [
    "using Pkg\n",
    "\n",
    "# Load package environment.\n",
    "Pkg.activate(\".\")\n",
    "Pkg.instantiate()"
   ]
  },
  {
   "cell_type": "code",
   "execution_count": 2,
   "metadata": {},
   "outputs": [],
   "source": [
    "using Revise\n",
    "using Flux\n",
    "using Flux.Tracker\n",
    "using Statistics\n",
    "using Printf\n",
    "using Random"
   ]
  },
  {
   "cell_type": "code",
   "execution_count": 111,
   "metadata": {},
   "outputs": [
    {
     "ename": "ErrorException",
     "evalue": "invalid redefinition of constant SetConv",
     "output_type": "error",
     "traceback": [
      "invalid redefinition of constant SetConv",
      "",
      "Stacktrace:",
      " [1] top-level scope at /Users/wessel/.julia/packages/IJulia/yLI42/src/kernel.jl:52"
     ]
    }
   ],
   "source": [
    "struct SetConv{T<:AbstractVector{<:Real}}\n",
    "    log_scales::T\n",
    "    density::Bool\n",
    "end \n",
    "\n",
    "@Flux.treelike SetConv"
   ]
  },
  {
   "cell_type": "code",
   "execution_count": 112,
   "metadata": {},
   "outputs": [
    {
     "ename": "LoadError",
     "evalue": "syntax: missing comma or ) in argument list",
     "output_type": "error",
     "traceback": [
      "syntax: missing comma or ) in argument list",
      ""
     ]
    }
   ],
   "source": [
    "\"\"\"\n",
    "What do each of these parameters mean?\n",
    "\"\"\"\n",
    "function set_conv(in_channels::Int, scale::Float64; density::Bool=true)\n",
    "    # Add one to `in_channels` to account for the density channel.\n",
    "    density && (in_channels += 1)\n",
    "    return SetConv(param(log.(scale .* ones(in_channels)), density)\n",
    "end"
   ]
  },
  {
   "cell_type": "code",
   "execution_count": 113,
   "metadata": {},
   "outputs": [
    {
     "data": {
      "text/plain": [
       "compute_dists2 (generic function with 3 methods)"
      ]
     },
     "execution_count": 113,
     "metadata": {},
     "output_type": "execute_result"
    }
   ],
   "source": [
    "rbf(dists2::Real) = exp(-0.5 * dists2)\n",
    "\n",
    "compute_dists2(x, y) = compute_dists2(x, y, Val(size(x, 2)))\n",
    "\n",
    "compute_dists2(x, y, ::Val{1}) = (x .- permutedims(y, (2, 1, 3))).^2\n",
    "\n",
    "function compute_dists2(x, y, d::Val)\n",
    "    y = permutedims(y, (2, 1, 3))\n",
    "    return sum(x.^2; dims=2) .+ sum(y.^2; dims=1) .- 2 .* batched_mul(x, y)\n",
    "end"
   ]
  },
  {
   "cell_type": "code",
   "execution_count": 114,
   "metadata": {},
   "outputs": [
    {
     "data": {
      "text/plain": [
       "layer"
      ]
     },
     "execution_count": 114,
     "metadata": {},
     "output_type": "execute_result"
    }
   ],
   "source": [
    "uti"
   ]
  },
  {
   "cell_type": "code",
   "execution_count": 115,
   "metadata": {},
   "outputs": [
    {
     "ename": "ErrorException",
     "evalue": "invalid redefinition of constant UniformDiscretisation1d",
     "output_type": "error",
     "traceback": [
      "invalid redefinition of constant UniformDiscretisation1d",
      "",
      "Stacktrace:",
      " [1] top-level scope at /Users/wessel/.julia/packages/IJulia/yLI42/src/kernel.jl:52"
     ]
    }
   ],
   "source": [
    "abstract type Discretisation end\n",
    "\n",
    "# Doesn't need to be performant.\n",
    "struct UniformDiscretisation1d <: Discretisation\n",
    "    points_per_unit::Real\n",
    "    margin::Real\n",
    "    multiple::Integer\n",
    "end\n",
    "\n",
    "function (d::UniformDiscretisation1d)(xs::AbstractArray...)\n",
    "    x = cat(xs...; dims=1)\n",
    "    range_lower = minimum(x) - d.margin\n",
    "    range_upper = maximum(x) + d.margin\n",
    "    num_points = Integer(round((range_upper - range_lower) * d.points_per_unit))\n",
    "    num_points = Integer(ceil(num_points / d.multiple) * d.multiple)\n",
    "    disc = collect(range(range_lower, range_upper; length=num_points))\n",
    "    return repeat(disc, 1, 1, size(x, 3))\n",
    "end"
   ]
  },
  {
   "cell_type": "code",
   "execution_count": 116,
   "metadata": {},
   "outputs": [],
   "source": [
    "struct ConvCNP\n",
    "    discretisation::Discretisation\n",
    "    encoder::SetConv\n",
    "    conv::Chain\n",
    "    decoder::SetConv\n",
    "end\n",
    "\n",
    "@Flux.treelike ConvCNP"
   ]
  },
  {
   "cell_type": "code",
   "execution_count": 117,
   "metadata": {},
   "outputs": [],
   "source": [
    "function (model::ConvCNP)(\n",
    "    x_context::AbstractArray,\n",
    "    y_context::AbstractArray,\n",
    "    x_target::AbstractArray\n",
    ")\n",
    "    x_discretisation = model.discretisation(x_context, x_target)\n",
    "    encoding = model.encoder(x_context, y_context, x_discretisation)\n",
    "    latent = model.conv(encoding)\n",
    "    if size(encoding, 1) != size(latent, 1)\n",
    "        error(\"Conv net changed the discretisation size from $(size(encoding, 1)) to $(size(latent, 1)).\")\n",
    "    end\n",
    "    return model.decoder(x_discretisation, latent, x_target)\n",
    "end"
   ]
  },
  {
   "cell_type": "code",
   "execution_count": 118,
   "metadata": {},
   "outputs": [
    {
     "data": {
      "text/plain": [
       "convcnp_1d (generic function with 2 methods)"
      ]
     },
     "execution_count": 118,
     "metadata": {},
     "output_type": "execute_result"
    }
   ],
   "source": [
    "function convcnp_1d(conv; points_per_unit=64, margin=0.1, multiple=1)\n",
    "    scale = 2 / points_per_unit\n",
    "    return ConvCNP(\n",
    "        UniformDiscretisation1d(points_per_unit, margin, multiple),\n",
    "        set_conv(1, scale; density=true),\n",
    "        conv,\n",
    "        set_conv(1, scale; density=false)\n",
    "    )\n",
    "end"
   ]
  },
  {
   "cell_type": "code",
   "execution_count": 119,
   "metadata": {},
   "outputs": [
    {
     "data": {
      "text/plain": [
       "get_conv (generic function with 2 methods)"
      ]
     },
     "execution_count": 119,
     "metadata": {},
     "output_type": "execute_result"
    }
   ],
   "source": [
    "round_odd(x) = Integer(ceil((x - 1) / 2) * 2 + 1)\n",
    "\n",
    "function kernel_size(receptive_field, points_per_unit, num_layers)\n",
    "    receptive_points = receptive_field * points_per_unit\n",
    "    return round_odd(1 + (receptive_points - 1) / num_layers)\n",
    "end\n",
    "\n",
    "padding(kernel_size) = Integer(floor(kernel_size / 2))\n",
    "\n",
    "function get_conv(\n",
    "    receptive_field,\n",
    "    num_layers,\n",
    "    num_channels;\n",
    "    points_per_unit=64,\n",
    "    in_channels=2,\n",
    "    out_channels=1,\n",
    "    dimensionality=1,\n",
    ")\n",
    "    k = kernel_size(receptive_field, points_per_unit, num_layers)\n",
    "    p = padding(k)\n",
    "    \n",
    "    # Repeat the kernel size `dimensionality` many times to construct the convolution kernel.\n",
    "    ks = ntuple(_ -> k, dimensionality)\n",
    "    \n",
    "    # Build layers of the conv net.\n",
    "    layers = []\n",
    "    push!(layers, Conv(ks, in_channels=>num_channels, pad=p, relu))\n",
    "    for i = 1:(num_layers - 2)\n",
    "        push!(layers, DepthwiseConv(ks, num_channels=>num_channels, pad=p, relu))\n",
    "    end\n",
    "    push!(layers, Conv(ks, num_channels=>out_channels, pad=p, relu))\n",
    "    \n",
    "    return Chain(layers...)\n",
    "end"
   ]
  },
  {
   "cell_type": "code",
   "execution_count": 122,
   "metadata": {},
   "outputs": [
    {
     "data": {
      "text/plain": [
       "ConvCNP(UniformDiscretisation1d(64.0, 0.1, 1), SetConv{TrackedArray{…,Array{Float64,1}}}([-3.4657359027997265, -3.4657359027997265] (tracked), true), Chain(Conv((15,), 2=>3, relu), DepthwiseConv((15,), 3=>3, relu), DepthwiseConv((15,), 3=>3, relu), DepthwiseConv((15,), 3=>3, relu), Conv((15,), 3=>1, relu)), SetConv{TrackedArray{…,Array{Float64,1}}}([-3.4657359027997265] (tracked), false))"
      ]
     },
     "execution_count": 122,
     "metadata": {},
     "output_type": "execute_result"
    }
   ],
   "source": [
    "model = convcnp_1d(get_conv(1.0, 5, 3))"
   ]
  },
  {
   "cell_type": "code",
   "execution_count": 124,
   "metadata": {},
   "outputs": [
    {
     "data": {
      "text/plain": [
       "Tracked 13×1×2 Array{Float64,3}:\n",
       "[:, :, 1] =\n",
       " 0.0023353587010365197\n",
       " 0.009421277296582764 \n",
       " 0.020942118548850825 \n",
       " 5.4561536389380815e-6\n",
       " 1.3718779582419487e-7\n",
       " 0.0006910548731020154\n",
       " 0.0008483649562197064\n",
       " 0.0005137920800159766\n",
       " 6.774942520272679e-6 \n",
       " 4.35416908377211e-8  \n",
       " 0.09686607064037359  \n",
       " 0.41040594661470764  \n",
       " 0.009194023003166501 \n",
       "\n",
       "[:, :, 2] =\n",
       " 0.13561144738673922   \n",
       " 0.01947123478509225   \n",
       " 4.692895089595109e-7  \n",
       " 0.01559701320221661   \n",
       " 2.0419223134600564e-10\n",
       " 0.041937200775655215  \n",
       " 1.6467060419001765e-6 \n",
       " 0.0005038522616987228 \n",
       " 9.037252345179225e-22 \n",
       " 0.0005148482299264626 \n",
       " 0.79518790529436      \n",
       " 6.153596180833405e-7  \n",
       " 0.006544258053640553  "
      ]
     },
     "execution_count": 124,
     "metadata": {},
     "output_type": "execute_result"
    }
   ],
   "source": [
    "rng = MersenneTwister(2)\n",
    "x = randn(rng, 5, 1, 2)\n",
    "y = randn(rng, 5, 1, 2)\n",
    "t = randn(rng, 13, 1, 2)\n",
    "\n",
    "model(x, y, t)"
   ]
  },
  {
   "cell_type": "code",
   "execution_count": null,
   "metadata": {},
   "outputs": [],
   "source": []
  },
  {
   "cell_type": "code",
   "execution_count": null,
   "metadata": {},
   "outputs": [],
   "source": []
  }
 ],
 "metadata": {
  "kernelspec": {
   "display_name": "Julia 1.3.0",
   "language": "julia",
   "name": "julia-1.3"
  },
  "language_info": {
   "file_extension": ".jl",
   "mimetype": "application/julia",
   "name": "julia",
   "version": "1.3.0"
  }
 },
 "nbformat": 4,
 "nbformat_minor": 4
}
