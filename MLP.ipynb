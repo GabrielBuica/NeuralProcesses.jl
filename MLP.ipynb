{
 "cells": [
  {
   "cell_type": "code",
   "execution_count": 4,
   "metadata": {},
   "outputs": [
    {
     "name": "stdout",
     "output_type": "stream",
     "text": [
      "\u001b[32m\u001b[1mActivating\u001b[22m\u001b[39m environment at `~/.julia/dev/ConvCNP/Project.toml`\n"
     ]
    }
   ],
   "source": [
    "using Pkg\n",
    "\n",
    "# Load package environment.\n",
    "Pkg.activate(\".\")\n",
    "Pkg.instantiate()"
   ]
  },
  {
   "cell_type": "code",
   "execution_count": 57,
   "metadata": {},
   "outputs": [],
   "source": [
    "using Flux\n",
    "using Statistics\n",
    "using Printf\n",
    "using Flux.Tracker"
   ]
  },
  {
   "cell_type": "code",
   "execution_count": 67,
   "metadata": {},
   "outputs": [],
   "source": [
    "# Make an MLP.\n",
    "m = Chain(\n",
    "    Dense(2, 5),\n",
    "    Dense(5, 2)\n",
    ");\n",
    "\n",
    "# Generate coefficients of a linear model.\n",
    "true_mat = randn(2, 2)\n",
    "\n",
    "# Set the loss to be the MSE.\n",
    "loss(x, y) = Flux.mse(m(x), y);"
   ]
  },
  {
   "cell_type": "code",
   "execution_count": 68,
   "metadata": {},
   "outputs": [
    {
     "data": {
      "text/plain": [
       "generate_batch"
      ]
     },
     "execution_count": 68,
     "metadata": {},
     "output_type": "execute_result"
    }
   ],
   "source": [
    "\"\"\"\n",
    "    generate_batch(true_mat; batch_size::Int=100)\n",
    "\n",
    "Generate a batch of data from a `(2, 2)` matrix of coefficients `true_mat` of batch size `batch_size`.\n",
    "\n",
    "# Returns\n",
    "- `Array{Tuple{Array{Float64, 2}, Array{Float64, 2}}}`: Batch of data.\n",
    "\"\"\"\n",
    "function generate_batch(true_mat; batch_size::Int=100)\n",
    "    data = Array{Tuple{Array{Float64, 2}, Array{Float64, 2}}}(undef, batch_size)\n",
    "\n",
    "    for i = 1:batch_size\n",
    "        x = randn(2, 2)\n",
    "        data[i] = (x, true_mat * x)\n",
    "    end\n",
    "    \n",
    "    return data\n",
    "end"
   ]
  },
  {
   "cell_type": "code",
   "execution_count": 69,
   "metadata": {},
   "outputs": [
    {
     "data": {
      "text/plain": [
       "test_loss"
      ]
     },
     "execution_count": 69,
     "metadata": {},
     "output_type": "execute_result"
    }
   ],
   "source": [
    "\"\"\"\n",
    "    test_loss(true_mat; batch_size::Int=10)\n",
    "\n",
    "Compute the loss of a batch of data from a `(2, 2)` matrix of coefficients `true_mat` of batch size `batch_size`.\n",
    "\n",
    "# Returns\n",
    "- `Float64`: Test loss.\n",
    "\"\"\"\n",
    "function test_loss(true_mat; batch_size::Int=10)\n",
    "    total_loss = 0.0 \n",
    "    \n",
    "    for d = generate_batch(true_mat; batch_size=batch_size)\n",
    "        total_loss += loss(d...)\n",
    "    end\n",
    "    \n",
    "    return total_loss / batch_size\n",
    "end\n"
   ]
  },
  {
   "cell_type": "code",
   "execution_count": 71,
   "metadata": {},
   "outputs": [
    {
     "name": "stdout",
     "output_type": "stream",
     "text": [
      "Epoch: 1\n",
      "Test loss: 3.629e-05\n",
      "Epoch: 2\n",
      "Test loss: 2.858e-05\n",
      "Epoch: 3\n",
      "Test loss: 2.472e-05\n",
      "Epoch: 4\n",
      "Test loss: 2.631e-05\n",
      "Epoch: 5\n",
      "Test loss: 1.745e-05\n",
      "Epoch: 6\n",
      "Test loss: 2.654e-05\n",
      "Epoch: 7\n",
      "Test loss: 2.812e-05\n",
      "Epoch: 8\n",
      "Test loss: 2.389e-05\n",
      "Epoch: 9\n",
      "Test loss: 2.599e-05\n",
      "Epoch: 10\n",
      "Test loss: 5.679e-05\n"
     ]
    }
   ],
   "source": [
    "# Perform 10 epochs.\n",
    "for epoch = 1:10\n",
    "    @printf(\"Epoch: %d\\n\", epoch)\n",
    "    data = generate_batch(true_mat)\n",
    "    Flux.train!(\n",
    "        loss,\n",
    "        params(m),\n",
    "        data,\n",
    "        ADAM(),\n",
    "        # Show the loss of test data every second.\n",
    "        cb=Flux.throttle(() -> @printf(\"Test loss: %.3e\\n\", Tracker.data(test_loss(true_mat))), 1)  \n",
    "    )\n",
    "end"
   ]
  },
  {
   "cell_type": "code",
   "execution_count": null,
   "metadata": {},
   "outputs": [],
   "source": []
  }
 ],
 "metadata": {
  "kernelspec": {
   "display_name": "Julia 1.3.0",
   "language": "julia",
   "name": "julia-1.3"
  },
  "language_info": {
   "file_extension": ".jl",
   "mimetype": "application/julia",
   "name": "julia",
   "version": "1.3.0"
  }
 },
 "nbformat": 4,
 "nbformat_minor": 4
}
