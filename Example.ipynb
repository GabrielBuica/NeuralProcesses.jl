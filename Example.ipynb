{
 "cells": [
  {
   "cell_type": "code",
   "execution_count": 1,
   "metadata": {},
   "outputs": [
    {
     "name": "stdout",
     "output_type": "stream",
     "text": [
      "\u001b[32m\u001b[1mActivating\u001b[22m\u001b[39m environment at `~/.julia/dev/ConvCNP/Project.toml`\n"
     ]
    }
   ],
   "source": [
    "using Pkg\n",
    "using Revise\n",
    "\n",
    "# Load package environment.\n",
    "Pkg.activate(\".\")\n",
    "Pkg.instantiate()"
   ]
  },
  {
   "cell_type": "code",
   "execution_count": 10,
   "metadata": {},
   "outputs": [],
   "source": [
    "using Flux\n",
    "using ConvCNP\n",
    "using Random"
   ]
  },
  {
   "cell_type": "code",
   "execution_count": 11,
   "metadata": {},
   "outputs": [
    {
     "data": {
      "text/plain": [
       "(conv = Chain(Conv((15,), 2=>3, relu), DepthwiseConv((15,), 3=>3, relu), DepthwiseConv((15,), 3=>3, relu), DepthwiseConv((15,), 3=>3, relu), Conv((15,), 3=>1, relu)), points_per_unit = 64)"
      ]
     },
     "execution_count": 11,
     "metadata": {},
     "output_type": "execute_result"
    }
   ],
   "source": [
    "conv = build_conv(1.0, 5, 3)"
   ]
  },
  {
   "cell_type": "code",
   "execution_count": 12,
   "metadata": {},
   "outputs": [
    {
     "data": {
      "text/plain": [
       "CCNP(ConvCNP.UniformDiscretisation1d(64, 0.1, 1), SetConv{TrackedArray{…,Array{Float64,1}}}([-3.4657359027997265, -3.4657359027997265] (tracked), true), Chain(Conv((15,), 2=>3, relu), DepthwiseConv((15,), 3=>3, relu), DepthwiseConv((15,), 3=>3, relu), DepthwiseConv((15,), 3=>3, relu), Conv((15,), 3=>1, relu)), SetConv{TrackedArray{…,Array{Float64,1}}}([-3.4657359027997265] (tracked), false))"
      ]
     },
     "execution_count": 12,
     "metadata": {},
     "output_type": "execute_result"
    }
   ],
   "source": [
    "model = convcnp_1d(conv)"
   ]
  },
  {
   "cell_type": "code",
   "execution_count": 14,
   "metadata": {},
   "outputs": [
    {
     "data": {
      "text/plain": [
       "Tracked 13×1×2 Array{Float64,3}:\n",
       "[:, :, 1] =\n",
       " 0.0041294442136357475 \n",
       " 0.033694201565442346  \n",
       " 0.009804618057310194  \n",
       " 0.00010246845700621898\n",
       " 0.0006549952773732587 \n",
       " 0.00016074085786839937\n",
       " 0.00239964894657003   \n",
       " 0.03760750125144911   \n",
       " 0.0019472989501367536 \n",
       " 0.0017449572318124925 \n",
       " 0.007171215468527196  \n",
       " 0.6053267195291621    \n",
       " 0.14384217138348165   \n",
       "\n",
       "[:, :, 2] =\n",
       " 0.7933474906336554    \n",
       " 0.003495255276589511  \n",
       " 0.010515589484473275  \n",
       " 0.01977440926916464   \n",
       " 1.0830802706798025e-11\n",
       " 0.07081012914063724   \n",
       " 0.00942739812835268   \n",
       " 0.003194124202032211  \n",
       " 3.762915020367067e-34 \n",
       " 0.003222933947203692  \n",
       " 0.09385974603652747   \n",
       " 6.585884779700347e-14 \n",
       " 0.08352013290091255   "
      ]
     },
     "execution_count": 14,
     "metadata": {},
     "output_type": "execute_result"
    }
   ],
   "source": [
    "rng = MersenneTwister(2)\n",
    "x = randn(rng, 5, 1, 2)\n",
    "y = randn(rng, 5, 1, 2)\n",
    "t = randn(rng, 13, 1, 2)\n",
    "\n",
    "model(x, y, t)"
   ]
  },
  {
   "cell_type": "code",
   "execution_count": null,
   "metadata": {},
   "outputs": [],
   "source": []
  }
 ],
 "metadata": {
  "kernelspec": {
   "display_name": "Julia 1.3.0",
   "language": "julia",
   "name": "julia-1.3"
  },
  "language_info": {
   "file_extension": ".jl",
   "mimetype": "application/julia",
   "name": "julia",
   "version": "1.3.0"
  }
 },
 "nbformat": 4,
 "nbformat_minor": 4
}
