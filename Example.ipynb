{
 "cells": [
  {
   "cell_type": "code",
   "execution_count": 7,
   "metadata": {
    "collapsed": false
   },
   "outputs": [
    {
     "name": "stdout",
     "output_type": "stream",
     "text": [
      "\u001b[32m\u001b[1mActivating\u001b[22m\u001b[39m environment at `~/.julia/dev/ConvCNPs/Project.toml`\n"
     ]
    }
   ],
   "source": [
    "using Pkg\n",
    "using Revise\n",
    "\n",
    "# Load package environment.\n",
    "Pkg.activate(\".\")\n",
    "Pkg.instantiate()"
   ]
  },
  {
   "cell_type": "code",
   "execution_count": 8,
   "metadata": {
    "collapsed": false
   },
   "outputs": [
    {
     "name": "stderr",
     "output_type": "stream",
     "text": [
      "┌ Info: Precompiling ConvCNPs [82b1838f-ac53-4693-a7f1-98bca40778bb]\n",
      "└ @ Base loading.jl:1273\n"
     ]
    }
   ],
   "source": [
    "using Flux\n",
    "using ConvCNPs\n",
    "using Random"
   ]
  },
  {
   "cell_type": "code",
   "execution_count": 9,
   "metadata": {
    "collapsed": false
   },
   "outputs": [
    {
     "data": {
      "text/plain": [
       "(conv = Chain(Conv((15,), 2=>3, relu), DepthwiseConv((15,), 3=>3, relu), DepthwiseConv((15,), 3=>3, relu), DepthwiseConv((15,), 3=>3, relu), Conv((15,), 3=>1, relu)), points_per_unit = 64)"
      ]
     },
     "execution_count": 9,
     "metadata": {},
     "output_type": "execute_result"
    }
   ],
   "source": [
    "conv = build_conv(1.0, 5, 3)"
   ]
  },
  {
   "cell_type": "code",
   "execution_count": 10,
   "metadata": {
    "collapsed": false
   },
   "outputs": [
    {
     "data": {
      "text/plain": [
       "ConvCNP(ConvCNPs.UniformDiscretisation1d(64, 0.1, 1), SetConv{TrackedArray{…,Array{Float64,1}}}([-3.4657359027997265, -3.4657359027997265] (tracked), true), Chain(Conv((15,), 2=>3, relu), DepthwiseConv((15,), 3=>3, relu), DepthwiseConv((15,), 3=>3, relu), DepthwiseConv((15,), 3=>3, relu), Conv((15,), 3=>1, relu)), SetConv{TrackedArray{…,Array{Float64,1}}}([-3.4657359027997265] (tracked), false))"
      ]
     },
     "execution_count": 10,
     "metadata": {},
     "output_type": "execute_result"
    }
   ],
   "source": [
    "model = convcnp_1d(conv)"
   ]
  },
  {
   "cell_type": "code",
   "execution_count": null,
   "metadata": {
    "collapsed": true
   },
   "outputs": [],
   "source": [
    "rng = MersenneTwister(2)\n",
    "x = randn(rng, 5, 1, 2)\n",
    "y = randn(rng, 5, 1, 2)\n",
    "t = randn(rng, 13, 1, 2)\n",
    "\n",
    "model(x, y, t)"
   ]
  },
  {
   "cell_type": "code",
   "execution_count": null,
   "metadata": {
    "collapsed": true
   },
   "outputs": [],
   "source": []
  }
 ],
 "metadata": {
  "anaconda-cloud": {},
  "kernelspec": {
   "display_name": "Julia 1.3.1",
   "language": "julia",
   "name": "julia-1.3"
  },
  "language_info": {
   "file_extension": ".jl",
   "mimetype": "application/julia",
   "name": "julia",
   "version": "1.3.1"
  }
 },
 "nbformat": 4,
 "nbformat_minor": 4
}
